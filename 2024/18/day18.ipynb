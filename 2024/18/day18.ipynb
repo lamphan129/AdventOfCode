{
 "cells": [
  {
   "cell_type": "code",
   "execution_count": 2,
   "metadata": {},
   "outputs": [
    {
     "name": "stdout",
     "output_type": "stream",
     "text": [
      "\n",
      "[[5, 4], [4, 2], [4, 5], [3, 0], [2, 1], [6, 3], [2, 4], [1, 5], [0, 6], [3, 3], [2, 6], [5, 1], [1, 2], [5, 5], [2, 5], [6, 5], [1, 4], [0, 4], [6, 4], [1, 1], [6, 1], [1, 0], [0, 5], [1, 6], [2, 0]]\n"
     ]
    }
   ],
   "source": [
    "import pandas as pd\n",
    "import numpy as np\n",
    "import re\n",
    "\n",
    "def load_data(option):\n",
    "    if option == 0:\n",
    "        with open('sample.txt') as f:\n",
    "            data = f.read().splitlines()\n",
    "    else:\n",
    "        with open('input.txt') as f:\n",
    "            data = f.read().splitlines()\n",
    "\n",
    "    arr = pd.DataFrame(data).to_numpy()\n",
    "    print()\n",
    "    arr = [[int(val) for val in re.findall(r'(\\d+)', row[0])] for row in arr]\n",
    "\n",
    "    return arr\n",
    "\n",
    "arr = load_data(0)\n",
    "print(arr)"
   ]
  },
  {
   "cell_type": "code",
   "execution_count": 5,
   "metadata": {},
   "outputs": [
    {
     "name": "stdout",
     "output_type": "stream",
     "text": [
      "\n",
      "408\n"
     ]
    }
   ],
   "source": [
    "import pandas as pd\n",
    "import numpy as np\n",
    "from tqdm import tqdm\n",
    "import heapq\n",
    "\n",
    "arr = load_data(1)\n",
    "\n",
    "size = 70\n",
    "map = np.zeros((size+1, size+1))\n",
    "\n",
    "# 0 = walkable, -1 = corrupted\n",
    "for i in range(1024):\n",
    "    x, y = arr[i]\n",
    "    map[y][x] = -1\n",
    "\n",
    "# Perform Dijkstra's (although BFS would work just fine)\n",
    "cost_dict = {}\n",
    "minHeap = [(0, (0, 0))] # cost, pos\n",
    "while minHeap:\n",
    "    cost, pos = heapq.heappop(minHeap)\n",
    "    if pos in cost_dict:\n",
    "        continue\n",
    "\n",
    "    cost_dict[pos] = cost\n",
    "    for dy, dx in [(0, -1), (0, 1), (1, 0), (-1, 0)]:\n",
    "        new_y = pos[0] + dy\n",
    "        new_x = pos[1] + dx\n",
    "        \n",
    "        if new_y >= 0 and new_y < len(map) and new_x >= 0 and new_x < len(map[0]) \\\n",
    "        and map[new_y][new_x] == 0 and (new_y, new_x) not in cost_dict:\n",
    "            heapq.heappush(minHeap, (cost+1, (new_y, new_x)))\n",
    "\n",
    "print(cost_dict[(size, size)])"
   ]
  },
  {
   "cell_type": "code",
   "execution_count": 11,
   "metadata": {},
   "outputs": [
    {
     "name": "stdout",
     "output_type": "stream",
     "text": [
      "\n",
      "45 16\n"
     ]
    }
   ],
   "source": [
    "import pandas as pd\n",
    "import numpy as np\n",
    "from tqdm import tqdm\n",
    "import heapq\n",
    "\n",
    "arr = load_data(1)\n",
    "\n",
    "size = 70\n",
    "map = np.zeros((size+1, size+1))\n",
    "\n",
    "found = False\n",
    "i = 0\n",
    "found_path = []\n",
    "while not found:\n",
    "    # 0 = walkable, -1 = corrupted\n",
    "    x, y = arr[i]\n",
    "    map[y][x] = -1\n",
    "    \n",
    "    if len(found_path) > 0 and (y, x) not in found_path: # The new obstacle didn't change the best path\n",
    "        i += 1\n",
    "        continue\n",
    "\n",
    "    # Perform Dijkstra's (although BFS would work just fine)\n",
    "    cost_dict = {}\n",
    "    minHeap = [(0, (0, 0), (-1, -1))] # cost, pos, predecessor\n",
    "    while minHeap:\n",
    "        cost, pos, predecessor = heapq.heappop(minHeap)\n",
    "        if pos in cost_dict:\n",
    "            continue\n",
    "\n",
    "        cost_dict[pos] = (cost, predecessor)\n",
    "        for dy, dx in [(0, -1), (0, 1), (1, 0), (-1, 0)]:\n",
    "            new_y = pos[0] + dy\n",
    "            new_x = pos[1] + dx\n",
    "            \n",
    "            if new_y >= 0 and new_y < len(map) and new_x >= 0 and new_x < len(map[0]) \\\n",
    "            and map[new_y][new_x] == 0 and (new_y, new_x) not in cost_dict:\n",
    "                heapq.heappush(minHeap, (cost+1, (new_y, new_x), pos))\n",
    "\n",
    "    if (size, size) not in cost_dict:\n",
    "        found = True\n",
    "        print(x, y)\n",
    "    else:\n",
    "        # Construct the path\n",
    "        found_path = [(size, size)]\n",
    "        predecessor = cost_dict[(size, size)][1]\n",
    "        while predecessor != (-1, -1):\n",
    "            found_path.append(predecessor)\n",
    "            predecessor = cost_dict[predecessor][1]\n",
    "        i += 1"
   ]
  }
 ],
 "metadata": {
  "kernelspec": {
   "display_name": "Python 3",
   "language": "python",
   "name": "python3"
  },
  "language_info": {
   "codemirror_mode": {
    "name": "ipython",
    "version": 3
   },
   "file_extension": ".py",
   "mimetype": "text/x-python",
   "name": "python",
   "nbconvert_exporter": "python",
   "pygments_lexer": "ipython3",
   "version": "3.12.0"
  }
 },
 "nbformat": 4,
 "nbformat_minor": 2
}
