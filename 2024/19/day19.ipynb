{
 "cells": [
  {
   "cell_type": "code",
   "execution_count": 3,
   "metadata": {},
   "outputs": [
    {
     "name": "stdout",
     "output_type": "stream",
     "text": [
      "['r', 'wr', 'b', 'g', 'bwu', 'rb', 'gb', 'br'] ['brwrr', 'bggr', 'gbbr', 'rrbgbr', 'ubwu', 'bwurrg', 'brgr', 'bbrgwb']\n"
     ]
    }
   ],
   "source": [
    "import pandas as pd\n",
    "import numpy as np\n",
    "\n",
    "def load_data(option):\n",
    "    if option == 0:\n",
    "        with open('sample.txt') as f:\n",
    "            data = f.read().splitlines()\n",
    "    else:\n",
    "        with open('input.txt') as f:\n",
    "            data = f.read().splitlines()\n",
    "\n",
    "    arr = pd.DataFrame(data).to_numpy()\n",
    "    patterns = [pat.strip() for pat in arr[0][0].split(',')]\n",
    "    designs = [des[0] for des in arr[2:]]\n",
    "\n",
    "    return patterns, designs\n",
    "\n",
    "patterns, designs = load_data(0)\n",
    "print(patterns, designs)"
   ]
  },
  {
   "cell_type": "code",
   "execution_count": 2,
   "metadata": {},
   "outputs": [
    {
     "name": "stdout",
     "output_type": "stream",
     "text": [
      "213\n"
     ]
    }
   ],
   "source": [
    "import pandas as pd\n",
    "import numpy as np\n",
    "from tqdm import tqdm\n",
    "import re\n",
    "import heapq\n",
    "\n",
    "patterns, designs = load_data(1)\n",
    "\n",
    "# Gather a dictionary of patterns for fast access\n",
    "patternDict = {}\n",
    "for pattern in patterns:\n",
    "    firstChar = pattern[0]\n",
    "    if firstChar not in patternDict:\n",
    "        patternDict[firstChar] = [pattern]\n",
    "    else:\n",
    "        patternDict[firstChar].append(pattern)\n",
    "\n",
    "total = 0\n",
    "for design in designs:\n",
    "    minHeap = [(len(design), design)] # remaining chars, remaining design to match\n",
    "    found = False\n",
    "\n",
    "    while minHeap and not found:\n",
    "        remainChars, subdesign = heapq.heappop(minHeap)\n",
    "        firstChar = subdesign[0]\n",
    "\n",
    "        if firstChar in patternDict:\n",
    "            for pattern in patternDict[firstChar]:\n",
    "                match = re.search(pattern, subdesign)\n",
    "\n",
    "                if match != None and match.start() == 0:\n",
    "                    if len(pattern) == remainChars: # Found possible designs\n",
    "                        found = True\n",
    "                        total += 1\n",
    "                    else:\n",
    "                        heapq.heappush(minHeap, (remainChars - len(pattern), subdesign[len(pattern):]))\n",
    "\n",
    "print(total)"
   ]
  },
  {
   "cell_type": "code",
   "execution_count": 6,
   "metadata": {},
   "outputs": [
    {
     "name": "stdout",
     "output_type": "stream",
     "text": [
      "1016700771200474\n"
     ]
    }
   ],
   "source": [
    "import pandas as pd\n",
    "import numpy as np\n",
    "from tqdm import tqdm\n",
    "import re\n",
    "\n",
    "patterns, designs = load_data(1)\n",
    "\n",
    "# Gather a dictionary of patterns for fast access\n",
    "patternDict = {}\n",
    "for pattern in patterns:\n",
    "    firstChar = pattern[0]\n",
    "    if firstChar not in patternDict:\n",
    "        patternDict[firstChar] = [pattern]\n",
    "    else:\n",
    "        patternDict[firstChar].append(pattern)\n",
    "\n",
    "# Memoization\n",
    "memo = {}\n",
    "\n",
    "# Recursive loop\n",
    "def recursive(remainChars, subdesign):\n",
    "    if subdesign in memo:\n",
    "        return memo[subdesign]\n",
    "    \n",
    "    firstChar = subdesign[0]\n",
    "    subtotal = 0\n",
    "    if firstChar in patternDict:\n",
    "        for pattern in patternDict[firstChar]:\n",
    "            match = re.search(pattern, subdesign)\n",
    "\n",
    "            if match != None and match.start() == 0:\n",
    "                if len(pattern) == remainChars: # Base case\n",
    "                    subtotal += 1\n",
    "                else:\n",
    "                    subtotal += recursive(remainChars - len(pattern), subdesign[len(pattern):])\n",
    "        \n",
    "    if subdesign not in memo:\n",
    "        memo[subdesign] = subtotal\n",
    "    return subtotal\n",
    "\n",
    "# Check each design\n",
    "total = 0\n",
    "for design in designs:\n",
    "    total += recursive(len(design), design)\n",
    "\n",
    "print(total)"
   ]
  },
  {
   "cell_type": "code",
   "execution_count": 62,
   "metadata": {},
   "outputs": [
    {
     "name": "stdout",
     "output_type": "stream",
     "text": [
      "7\n"
     ]
    }
   ],
   "source": [
    "from typing import List\n",
    "import math\n",
    "\n",
    "def mergeSort(position: List[int], speed: List[int]):\n",
    "    s, e = 0, len(position)\n",
    "\n",
    "    # Base case\n",
    "    if len(position) == 1:\n",
    "        return position, speed\n",
    "    \n",
    "    m = math.ceil((s + e) / 2)\n",
    "    first_pos, first_spd = mergeSort(position[0:m], speed[0:m])\n",
    "    second_pos, second_spd = mergeSort(position[m:], speed[m:])\n",
    "\n",
    "    # Merge\n",
    "    sorted_pos = []\n",
    "    sorted_spd = []\n",
    "    while len(sorted_pos) < len(position):\n",
    "        # Default case:\n",
    "        if len(first_pos) == 0:\n",
    "            sorted_pos.extend(second_pos)\n",
    "            sorted_spd.extend(second_spd)\n",
    "        elif len(second_pos) == 0:\n",
    "            sorted_pos.extend(first_pos)\n",
    "            sorted_spd.extend(first_spd)\n",
    "        else:\n",
    "            if first_pos[0] <= second_pos[0]:\n",
    "                sorted_pos.append(first_pos.pop(0))\n",
    "                sorted_spd.append(first_spd.pop(0))\n",
    "            else:\n",
    "                sorted_pos.append(second_pos.pop(0))\n",
    "                sorted_spd.append(second_spd.pop(0))\n",
    "\n",
    "    return sorted_pos, sorted_spd\n",
    "\n",
    "# Sort the position list\n",
    "sorted_pos, sorted_spd = mergeSort([1,15,6,8,18,14,16,2,19,17,3,20,5], [8,5,5,7,10,10,7,9,3,4,4,10,2])\n",
    "target = 21\n",
    "\n",
    "# Count the number of possible car fleet\n",
    "# At first, each car is its own fleet\n",
    "total_fleet = len(sorted_pos)\n",
    "i = len(sorted_pos)-2\n",
    "while i >= 0:\n",
    "    t_1 = (target - sorted_pos[i]) / sorted_spd[i]\n",
    "    t_2 = (target - sorted_pos[i+1]) / sorted_spd[i+1]\n",
    "\n",
    "    # Can car 1 catch up with car 2?\n",
    "    if t_1 <= t_2:\n",
    "        sorted_pos.pop(i)\n",
    "        sorted_spd.pop(i)\n",
    "        total_fleet -= 1\n",
    "\n",
    "    i -= 1\n",
    "\n",
    "print(total_fleet)"
   ]
  },
  {
   "cell_type": "code",
   "execution_count": null,
   "metadata": {},
   "outputs": [],
   "source": []
  }
 ],
 "metadata": {
  "kernelspec": {
   "display_name": "Python 3",
   "language": "python",
   "name": "python3"
  },
  "language_info": {
   "codemirror_mode": {
    "name": "ipython",
    "version": 3
   },
   "file_extension": ".py",
   "mimetype": "text/x-python",
   "name": "python",
   "nbconvert_exporter": "python",
   "pygments_lexer": "ipython3",
   "version": "3.12.0"
  }
 },
 "nbformat": 4,
 "nbformat_minor": 2
}
