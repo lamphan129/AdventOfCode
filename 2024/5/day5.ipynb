{
 "cells": [
  {
   "cell_type": "code",
   "execution_count": 7,
   "metadata": {},
   "outputs": [
    {
     "name": "stdout",
     "output_type": "stream",
     "text": [
      "                                                      0\n",
      "0                                                 79|26\n",
      "1                                                 75|21\n",
      "2                                                 75|86\n",
      "3                                                 74|69\n",
      "4                                                 74|86\n",
      "...                                                 ...\n",
      "1364                   64,44,74,41,75,15,68,83,94,79,33\n",
      "1365  83,44,12,15,67,74,98,68,57,37,18,56,75,52,41,8...\n",
      "1366                         25,35,39,73,94,36,65,47,53\n",
      "1367  75,53,37,26,33,58,69,56,25,28,41,89,99,98,52,9...\n",
      "1368  79,85,36,39,95,72,64,44,73,46,54,83,65,15,38,9...\n",
      "\n",
      "[1369 rows x 1 columns]\n"
     ]
    }
   ],
   "source": [
    "import pandas as pd\n",
    "import numpy as np\n",
    "\n",
    "with open('input.txt') as f:\n",
    "    data = f.read().splitlines()\n",
    "\n",
    "df = pd.DataFrame(data)\n",
    "print(df)"
   ]
  },
  {
   "cell_type": "code",
   "execution_count": 8,
   "metadata": {},
   "outputs": [
    {
     "name": "stdout",
     "output_type": "stream",
     "text": [
      "4462\n"
     ]
    }
   ],
   "source": [
    "# Find all rules\n",
    "import re\n",
    "\n",
    "rule_forward = {}\n",
    "rule_backward = {}\n",
    "sum = 0\n",
    "for data in df.iterrows():\n",
    "    data = data[1].values[0]\n",
    "    value = re.split(r'\\|', data)\n",
    "    \n",
    "    # Its a rule\n",
    "    if len(value) == 2:\n",
    "        first_val, second_val = int(value[0]), int(value[1])\n",
    "        if first_val not in rule_forward:\n",
    "            rule_forward[first_val] = [second_val]\n",
    "        else:\n",
    "            rule_forward[first_val].append(second_val)\n",
    "\n",
    "        if second_val not in rule_backward:\n",
    "            rule_backward[second_val] = [first_val]\n",
    "        else:\n",
    "            rule_backward[second_val].append(first_val)\n",
    "\n",
    "    # Its an update\n",
    "    elif value[0] != '':\n",
    "        valid = True\n",
    "        list = np.array([int(x) for x in value[0].split(',')])\n",
    "        \n",
    "        for i in range(len(list)):\n",
    "            forward_list = np.delete(list[i:], 0)\n",
    "            backward_list = list[:i]\n",
    "\n",
    "            if len(forward_list) > 0:\n",
    "                if list[i] in rule_forward and len(np.intersect1d(rule_forward[list[i]], forward_list)) != len(forward_list):\n",
    "                    valid = False\n",
    "                    break\n",
    "\n",
    "            if len(backward_list) > 0:\n",
    "                if list[i] in rule_backward and len(np.intersect1d(rule_backward[list[i]], backward_list)) != len(backward_list):\n",
    "                    valid = False\n",
    "                    break\n",
    "\n",
    "        if valid:\n",
    "            sum += list[len(list)//2]\n",
    "\n",
    "print(sum)"
   ]
  },
  {
   "cell_type": "code",
   "execution_count": 9,
   "metadata": {},
   "outputs": [
    {
     "name": "stdout",
     "output_type": "stream",
     "text": [
      "6767\n"
     ]
    }
   ],
   "source": [
    "# Find all rules\n",
    "import re\n",
    "\n",
    "rule_forward = {}\n",
    "rule_backward = {}\n",
    "sum = 0\n",
    "for data in df.iterrows():\n",
    "    data = data[1].values[0]\n",
    "    value = re.split(r'\\|', data)\n",
    "    \n",
    "    # Its a rule\n",
    "    if len(value) == 2:\n",
    "        first_val, second_val = int(value[0]), int(value[1])\n",
    "        if first_val not in rule_forward:\n",
    "            rule_forward[first_val] = [second_val]\n",
    "        else:\n",
    "            rule_forward[first_val].append(second_val)\n",
    "\n",
    "        if second_val not in rule_backward:\n",
    "            rule_backward[second_val] = [first_val]\n",
    "        else:\n",
    "            rule_backward[second_val].append(first_val)\n",
    "\n",
    "    # Its an update\n",
    "    elif value[0] != '':\n",
    "        valid = True\n",
    "        list = np.array([int(x) for x in value[0].split(',')])\n",
    "        \n",
    "        for i in range(len(list)):\n",
    "            forward_list = np.delete(list[i:], 0)\n",
    "            backward_list = list[:i]\n",
    "\n",
    "            if len(forward_list) > 0:\n",
    "                if list[i] in rule_forward and len(np.intersect1d(rule_forward[list[i]], forward_list)) != len(forward_list):\n",
    "                    valid = False\n",
    "                    break\n",
    "\n",
    "            if len(backward_list) > 0:\n",
    "                if list[i] in rule_backward and len(np.intersect1d(rule_backward[list[i]], backward_list)) != len(backward_list):\n",
    "                    valid = False\n",
    "                    break\n",
    "\n",
    "        if not valid:\n",
    "            backward_count = []\n",
    "            for i in range(len(list)):\n",
    "                list_without_i = np.delete(list, i)\n",
    "                backward_count.append(len(np.intersect1d(rule_backward[list[i]], list_without_i)))\n",
    "\n",
    "            fixed_list = np.zeros_like(list)\n",
    "            for i, count in enumerate(backward_count):\n",
    "                fixed_list[count] = list[i]\n",
    "\n",
    "            sum += fixed_list[len(fixed_list)//2]\n",
    "            \n",
    "print(sum)"
   ]
  }
 ],
 "metadata": {
  "kernelspec": {
   "display_name": "Python 3",
   "language": "python",
   "name": "python3"
  },
  "language_info": {
   "codemirror_mode": {
    "name": "ipython",
    "version": 3
   },
   "file_extension": ".py",
   "mimetype": "text/x-python",
   "name": "python",
   "nbconvert_exporter": "python",
   "pygments_lexer": "ipython3",
   "version": "3.12.0"
  }
 },
 "nbformat": 4,
 "nbformat_minor": 2
}
