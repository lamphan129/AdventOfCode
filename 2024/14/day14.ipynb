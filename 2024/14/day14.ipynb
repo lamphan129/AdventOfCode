{
 "cells": [
  {
   "cell_type": "code",
   "execution_count": 20,
   "metadata": {},
   "outputs": [
    {
     "name": "stdout",
     "output_type": "stream",
     "text": [
      "[[0, 4, 3, -3], [6, 3, -1, -3], [10, 3, -1, 2], [2, 0, 2, -1], [0, 0, 1, 3], [3, 0, -2, -2], [7, 6, -1, -3], [3, 0, -1, -2], [9, 3, 2, 3], [7, 3, -1, 2], [2, 4, 2, -3], [9, 5, -3, -3]]\n"
     ]
    }
   ],
   "source": [
    "import pandas as pd\n",
    "import numpy as np\n",
    "import re\n",
    "\n",
    "def load_data(option):\n",
    "    if option == 0:\n",
    "        with open('sample.txt') as f:\n",
    "            data = f.read().splitlines()\n",
    "    else:\n",
    "        with open('input.txt') as f:\n",
    "            data = f.read().splitlines()\n",
    "\n",
    "    arr = pd.DataFrame(data).to_numpy()\n",
    "    arr = [[int(num) for num in re.findall(r'-?\\d+', row[0])] for row in arr]\n",
    "\n",
    "    return arr\n",
    "\n",
    "arr = load_data(0)\n",
    "print(arr)"
   ]
  },
  {
   "cell_type": "code",
   "execution_count": 23,
   "metadata": {},
   "outputs": [
    {
     "name": "stdout",
     "output_type": "stream",
     "text": [
      "226548000.0\n"
     ]
    }
   ],
   "source": [
    "import pandas as pd\n",
    "import numpy as np\n",
    "from tqdm import tqdm\n",
    "\n",
    "arr = load_data(1)\n",
    "\n",
    "w = 101\n",
    "h = 103\n",
    "mat = np.zeros((h, w))\n",
    "\n",
    "# Find robot's last location\n",
    "for row in arr:\n",
    "    x = row[0]\n",
    "    y = row[1]\n",
    "\n",
    "    vx = row[2]\n",
    "    vy = row[3]\n",
    "\n",
    "    xf = (x + 100 * vx) % w\n",
    "    yf = (y + 100 * vy) % h\n",
    "\n",
    "    mat[yf][xf] += 1\n",
    "\n",
    "# Find number of robot in each quadrant\n",
    "mid = (h // 2, w // 2)\n",
    "c1 = np.sum(mat[:mid[0], :mid[1]])\n",
    "c2 = np.sum(mat[:mid[0], mid[1]+1:])\n",
    "c3 = np.sum(mat[mid[0]+1:, :mid[1]])\n",
    "c4 = np.sum(mat[mid[0]+1:, mid[1]+1:])\n",
    "print(c1 * c2 * c3 * c4)"
   ]
  },
  {
   "cell_type": "code",
   "execution_count": 27,
   "metadata": {},
   "outputs": [
    {
     "data": {
      "image/png": "[encoded data removed]",
      "text/plain": [
       "<Figure size 640x480 with 1 Axes>"
      ]
     },
     "metadata": {},
     "output_type": "display_data"
    }
   ],
   "source": [
    "import pandas as pd\n",
    "import numpy as np\n",
    "from tqdm import tqdm\n",
    "import matplotlib.pyplot as plt\n",
    "\n",
    "arr = load_data(1)\n",
    "\n",
    "w = 101\n",
    "h = 103\n",
    "\n",
    "# Find robot's last location\n",
    "sec = 1\n",
    "while True:\n",
    "    mat = np.zeros((h, w))\n",
    "\n",
    "    for row in arr:\n",
    "        x = row[0]\n",
    "        y = row[1]\n",
    "\n",
    "        vx = row[2]\n",
    "        vy = row[3]\n",
    "\n",
    "        xf = (x + sec * vx) % w\n",
    "        yf = (y + sec * vy) % h\n",
    "\n",
    "        mat[yf][xf] = 1\n",
    "    \n",
    "    if (sec - 77) % 101 == 0 and (sec - 28) % 103 == 0:\n",
    "        plt.imshow(mat, cmap='gray')\n",
    "        plt.title(sec)\n",
    "        plt.show()\n",
    "        break\n",
    "    \n",
    "    sec += 1"
   ]
  }
 ],
 "metadata": {
  "kernelspec": {
   "display_name": "Python 3",
   "language": "python",
   "name": "python3"
  },
  "language_info": {
   "codemirror_mode": {
    "name": "ipython",
    "version": 3
   },
   "file_extension": ".py",
   "mimetype": "text/x-python",
   "name": "python",
   "nbconvert_exporter": "python",
   "pygments_lexer": "ipython3",
   "version": "3.12.0"
  }
 },
 "nbformat": 4,
 "nbformat_minor": 2
}
