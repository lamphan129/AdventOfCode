{
 "cells": [
  {
   "cell_type": "code",
   "execution_count": 37,
   "metadata": {},
   "outputs": [
    {
     "name": "stdout",
     "output_type": "stream",
     "text": [
      "                                                     0\n",
      "0    .....#...........................................\n",
      "1    .......................#.......#.................\n",
      "2    .........#.......................................\n",
      "3    .....#..#.............#..........................\n",
      "4    ............#................##..................\n",
      "..                                                 ...\n",
      "125  ..#...........#..................#...............\n",
      "126  ......................................#..........\n",
      "127  #......#................#........................\n",
      "128  ............##..............##..........#........\n",
      "129  .#.##............#.................#.............\n",
      "\n",
      "[130 rows x 1 columns]\n"
     ]
    }
   ],
   "source": [
    "import pandas as pd\n",
    "import numpy as np\n",
    "\n",
    "with open('input.txt') as f:\n",
    "    data = f.read().splitlines()\n",
    "\n",
    "df = pd.DataFrame(data)\n",
    "print(df)"
   ]
  },
  {
   "cell_type": "code",
   "execution_count": 38,
   "metadata": {},
   "outputs": [
    {
     "name": "stdout",
     "output_type": "stream",
     "text": [
      "5564\n"
     ]
    }
   ],
   "source": [
    "import copy\n",
    "\n",
    "game = np.array(df)\n",
    "game = [list(row[0]) for row in game]\n",
    "\n",
    "# Find player\n",
    "player = []\n",
    "for i in range(len(game)):\n",
    "    for j in range(len(game[0])):\n",
    "        if game[i][j] == \"^\":\n",
    "            player = [i,j]\n",
    "            break\n",
    "\n",
    "orig_player = copy.deepcopy(player)\n",
    "# Move player\n",
    "# 0 = up, 1 = right, 2 = down, 3 = left\n",
    "direction = 0\n",
    "while (direction == 0 and player[0] > 0) or (direction == 1 and player[1] < len(game[0]) - 1) or (direction == 2 and player[0] < len(game) - 1) or (direction == 3 and player[1] > 0): # Not at border\n",
    "    game[player[0]][player[1]] = \"X\"\n",
    "    if direction == 0:\n",
    "        if game[player[0] - 1][player[1]] != \"#\": # Up\n",
    "            player[0] -= 1\n",
    "        else:\n",
    "            direction = 1\n",
    "    elif direction == 1:\n",
    "        if game[player[0]][player[1] + 1] != \"#\": # Right\n",
    "            player[1] += 1\n",
    "        else:\n",
    "            direction = 2\n",
    "    elif direction == 2:\n",
    "        if game[player[0] + 1][player[1]] != \"#\": # Down\n",
    "            player[0] += 1\n",
    "        else:\n",
    "            direction = 3\n",
    "    elif direction == 3:\n",
    "        if game[player[0]][player[1] - 1] != \"#\": # Left\n",
    "            player[1] -= 1\n",
    "        else:\n",
    "            direction = 0\n",
    "\n",
    "# Mark at exit\n",
    "game[player[0]][player[1]] = \"X\"\n",
    "\n",
    "orig_game = copy.deepcopy(game)\n",
    "print(np.sum([row.count(\"X\") for row in game]))"
   ]
  },
  {
   "cell_type": "code",
   "execution_count": 39,
   "metadata": {},
   "outputs": [
    {
     "name": "stderr",
     "output_type": "stream",
     "text": [
      "100%|██████████| 130/130 [00:40<00:00,  3.23it/s]"
     ]
    },
    {
     "name": "stdout",
     "output_type": "stream",
     "text": [
      "1976\n"
     ]
    },
    {
     "name": "stderr",
     "output_type": "stream",
     "text": [
      "\n"
     ]
    }
   ],
   "source": [
    "import copy\n",
    "from tqdm import tqdm\n",
    "import numpy as np\n",
    "\n",
    "empty_game = np.array(df)\n",
    "empty_game = [list(row[0]) for row in empty_game]\n",
    "\n",
    "# Move player\n",
    "# 0 = up, 1 = right, 2 = down, 3 = left\n",
    "# Xu, Xr, Xd, Xl\n",
    "sum = 0\n",
    "for i in tqdm(range(len(orig_game))):\n",
    "    for j in range(len(orig_game[0])):\n",
    "        # Check if its possible to add obstacle\n",
    "        if orig_game[i][j] != \"X\" or (i == orig_player[0] and j == orig_player[1]):\n",
    "            continue\n",
    "\n",
    "        # Try add obstacle at X\n",
    "        game = copy.deepcopy(empty_game)\n",
    "        game[i][j] = \"#\"\n",
    "        player = copy.deepcopy(orig_player)\n",
    "        \n",
    "        direction = 0\n",
    "        loop = False\n",
    "        while (direction == 0 and player[0] > 0) or (direction == 1 and player[1] < len(game[0]) - 1) or (direction == 2 and player[0] < len(game) - 1) or (direction == 3 and player[1] > 0): # Not at border\n",
    "            if direction == 0:\n",
    "                if game[player[0] - 1][player[1]] != \"#\": # Up\n",
    "                    game[player[0]][player[1]] = \"Xu\"\n",
    "                    player[0] -= 1\n",
    "                else:\n",
    "                    direction = 1\n",
    "            elif direction == 1:\n",
    "                if game[player[0]][player[1] + 1] != \"#\": # Right\n",
    "                    game[player[0]][player[1]] = \"Xr\"\n",
    "                    player[1] += 1\n",
    "                else:\n",
    "                    direction = 2\n",
    "            elif direction == 2:\n",
    "                if game[player[0] + 1][player[1]] != \"#\": # Down\n",
    "                    game[player[0]][player[1]] = \"Xd\"\n",
    "                    player[0] += 1\n",
    "                else:\n",
    "                    direction = 3\n",
    "            elif direction == 3:\n",
    "                if game[player[0]][player[1] - 1] != \"#\": # Left\n",
    "                    game[player[0]][player[1]] = \"Xl\"\n",
    "                    player[1] -= 1\n",
    "                else:\n",
    "                    direction = 0\n",
    "\n",
    "            # Check if loop\n",
    "            if (direction == 0 and game[player[0]][player[1]] == \"Xu\") or \\\n",
    "            (direction == 1 and game[player[0]][player[1]] == \"Xr\") or \\\n",
    "            (direction == 2 and game[player[0]][player[1]] == \"Xd\") or \\\n",
    "            (direction == 3 and game[player[0]][player[1]] == \"Xl\"):\n",
    "                loop = True\n",
    "                break\n",
    "\n",
    "        if loop:\n",
    "            sum += 1\n",
    "\n",
    "print(sum)"
   ]
  }
 ],
 "metadata": {
  "kernelspec": {
   "display_name": "Python 3",
   "language": "python",
   "name": "python3"
  },
  "language_info": {
   "codemirror_mode": {
    "name": "ipython",
    "version": 3
   },
   "file_extension": ".py",
   "mimetype": "text/x-python",
   "name": "python",
   "nbconvert_exporter": "python",
   "pygments_lexer": "ipython3",
   "version": "3.12.0"
  }
 },
 "nbformat": 4,
 "nbformat_minor": 2
}
