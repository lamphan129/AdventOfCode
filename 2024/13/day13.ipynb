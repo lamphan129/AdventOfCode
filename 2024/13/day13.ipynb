{
 "cells": [
  {
   "cell_type": "code",
   "execution_count": 1,
   "metadata": {},
   "outputs": [
    {
     "name": "stdout",
     "output_type": "stream",
     "text": [
      "[[94, 34], [22, 67], [8400, 5400], [], [26, 66], [67, 21], [12748, 12176], [], [17, 86], [84, 37], [7870, 6450], [], [69, 23], [27, 71], [18641, 10279]]\n"
     ]
    }
   ],
   "source": [
    "import pandas as pd\n",
    "import numpy as np\n",
    "import re\n",
    "\n",
    "def load_data(option):\n",
    "    if option == 0:\n",
    "        with open('sample.txt') as f:\n",
    "            data = f.read().splitlines()\n",
    "    else:\n",
    "        with open('input.txt') as f:\n",
    "            data = f.read().splitlines()\n",
    "\n",
    "    arr = pd.DataFrame(data).to_numpy()\n",
    "    arr = [[int(num) for num in re.findall(r'\\d+', row[0])] for row in arr]\n",
    "\n",
    "    return arr\n",
    "\n",
    "arr = load_data(0)\n",
    "print(arr)"
   ]
  },
  {
   "cell_type": "code",
   "execution_count": 2,
   "metadata": {},
   "outputs": [
    {
     "name": "stdout",
     "output_type": "stream",
     "text": [
      "31589\n"
     ]
    }
   ],
   "source": [
    "import pandas as pd\n",
    "import numpy as np\n",
    "from tqdm import tqdm\n",
    "\n",
    "arr = load_data(1)\n",
    "\n",
    "cost = 0\n",
    "for i in range(0, len(arr), 4):\n",
    "    a = arr[i]\n",
    "    b = arr[i+1]\n",
    "    target = arr[i+2]\n",
    "\n",
    "    x, y = np.linalg.solve([[a[0], b[0]], [a[1], b[1]]], target)\n",
    "\n",
    "    if abs(round(x) - x) < 1e-2 and abs(round(y) - y) < 1e-2 and x > 0 and x < 100 and y > 0 and y < 100:\n",
    "        cost += 3*round(x) + round(y)\n",
    "\n",
    "print(cost)"
   ]
  },
  {
   "cell_type": "code",
   "execution_count": 3,
   "metadata": {},
   "outputs": [
    {
     "name": "stdout",
     "output_type": "stream",
     "text": [
      "98080815200063\n"
     ]
    }
   ],
   "source": [
    "import pandas as pd\n",
    "import numpy as np\n",
    "from tqdm import tqdm\n",
    "\n",
    "arr = load_data(1)\n",
    "\n",
    "cost = 0\n",
    "for i in range(0, len(arr), 4):\n",
    "    a = arr[i]\n",
    "    b = arr[i+1]\n",
    "    target = [arr[i+2][0] + 10000000000000, arr[i+2][1] + 10000000000000]\n",
    "\n",
    "    x, y = np.linalg.solve([[a[0], b[0]], [a[1], b[1]]], target)\n",
    "\n",
    "    if abs(round(x) - x) < 1e-2 and abs(round(y) - y) < 1e-2 and x > 0 and y > 0:\n",
    "        cost += 3*round(x) + round(y)\n",
    "print(cost)"
   ]
  }
 ],
 "metadata": {
  "kernelspec": {
   "display_name": "Python 3",
   "language": "python",
   "name": "python3"
  },
  "language_info": {
   "codemirror_mode": {
    "name": "ipython",
    "version": 3
   },
   "file_extension": ".py",
   "mimetype": "text/x-python",
   "name": "python",
   "nbconvert_exporter": "python",
   "pygments_lexer": "ipython3",
   "version": "3.12.0"
  }
 },
 "nbformat": 4,
 "nbformat_minor": 2
}
