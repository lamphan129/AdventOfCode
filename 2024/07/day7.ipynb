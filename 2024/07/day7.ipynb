{
 "cells": [
  {
   "cell_type": "code",
   "execution_count": 52,
   "metadata": {},
   "outputs": [
    {
     "name": "stdout",
     "output_type": "stream",
     "text": [
      "                                      0\n",
      "0    54753537: 2 35 2 5 5 9 1 17 367 73\n",
      "1        4351178317: 51 646 47 281 6 91\n",
      "2         452662455: 574 1 291 1 271 44\n",
      "3             321264501: 3 45 97 69 501\n",
      "4       137567: 319 6 1 561 3 6 2 328 7\n",
      "..                                  ...\n",
      "845                  50259: 78 89 5 3 3\n",
      "846    8011325: 58 573 96 2 3 98 5 24 5\n",
      "847    741157: 288 6 9 70 4 38 3 9 4 61\n",
      "848      77760221: 27 600 48 86 121 7 7\n",
      "849             1003: 3 66 92 700 7 8 1\n",
      "\n",
      "[850 rows x 1 columns]\n"
     ]
    }
   ],
   "source": [
    "import pandas as pd\n",
    "import numpy as np\n",
    "\n",
    "with open('input.txt') as f:\n",
    "    data = f.read().splitlines()\n",
    "\n",
    "df = pd.DataFrame(data)\n",
    "print(df)"
   ]
  },
  {
   "cell_type": "code",
   "execution_count": 48,
   "metadata": {},
   "outputs": [
    {
     "name": "stdout",
     "output_type": "stream",
     "text": [
      "663613490587\n"
     ]
    }
   ],
   "source": [
    "import itertools\n",
    "\n",
    "def calculate(x1, x2, op):\n",
    "    if op == '+':\n",
    "        return x1 + x2\n",
    "    elif op == '*':\n",
    "        return x1 * x2\n",
    "\n",
    "sum = 0\n",
    "for row in df.iterrows():\n",
    "    data = row[1].values[0]\n",
    "    \n",
    "    target, nums = data.split(':')\n",
    "    target = int(target)\n",
    "    nums = [int(num) for num in nums.strip().split(' ')]\n",
    "    \n",
    "    possible_ops = itertools.product(['+', '*'], repeat=len(nums) - 1)\n",
    "    \n",
    "    for ops in possible_ops:\n",
    "        result = 0\n",
    "        for i in range(len(nums)):\n",
    "            if i == 0:\n",
    "                result = nums[i]\n",
    "                continue\n",
    "\n",
    "            result = calculate(result, nums[i], ops[i-1])\n",
    "\n",
    "        if result == target:\n",
    "            sum += target\n",
    "            break\n",
    "\n",
    "print(sum)"
   ]
  },
  {
   "cell_type": "code",
   "execution_count": 53,
   "metadata": {},
   "outputs": [
    {
     "name": "stdout",
     "output_type": "stream",
     "text": [
      "110365987435001\n"
     ]
    }
   ],
   "source": [
    "import itertools\n",
    "\n",
    "def calculate(x1, x2, op):\n",
    "    if op == '+':\n",
    "        return x1 + x2\n",
    "    elif op == '*':\n",
    "        return x1 * x2\n",
    "    elif op == '|':\n",
    "        return int(str(x1) + str(x2))\n",
    "\n",
    "sum = 0\n",
    "for row in df.iterrows():\n",
    "    data = row[1].values[0]\n",
    "    \n",
    "    target, nums = data.split(':')\n",
    "    target = int(target)\n",
    "    nums = [int(num) for num in nums.strip().split(' ')]\n",
    "    \n",
    "    possible_ops = itertools.product(['+', '*', '|'], repeat=len(nums) - 1)\n",
    "    \n",
    "    for ops in possible_ops:\n",
    "        result = 0\n",
    "        for i in range(len(nums)):\n",
    "            if i == 0:\n",
    "                result = nums[i]\n",
    "                continue\n",
    "\n",
    "            result = calculate(result, nums[i], ops[i-1])\n",
    "\n",
    "        if result == target:\n",
    "            sum += target\n",
    "            break\n",
    "\n",
    "print(sum)"
   ]
  }
 ],
 "metadata": {
  "kernelspec": {
   "display_name": "Python 3",
   "language": "python",
   "name": "python3"
  },
  "language_info": {
   "codemirror_mode": {
    "name": "ipython",
    "version": 3
   },
   "file_extension": ".py",
   "mimetype": "text/x-python",
   "name": "python",
   "nbconvert_exporter": "python",
   "pygments_lexer": "ipython3",
   "version": "3.12.0"
  }
 },
 "nbformat": 4,
 "nbformat_minor": 2
}
