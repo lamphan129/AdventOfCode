{
 "cells": [
  {
   "cell_type": "code",
   "execution_count": 22,
   "metadata": {},
   "outputs": [
    {
     "name": "stdout",
     "output_type": "stream",
     "text": [
      "         0      1\n",
      "0    64430  75582\n",
      "1    87936  20843\n",
      "2    98310  72035\n",
      "3    98142  69076\n",
      "4    73170  50561\n",
      "..     ...    ...\n",
      "995  25533  96431\n",
      "996  68777  15175\n",
      "997  47390  75651\n",
      "998  94550  80760\n",
      "999  61539  20843\n",
      "\n",
      "[1000 rows x 2 columns]\n"
     ]
    },
    {
     "name": "stderr",
     "output_type": "stream",
     "text": [
      "C:\\Users\\LamPhan\\AppData\\Local\\Temp\\ipykernel_1876\\3001917598.py:4: ParserWarning: Falling back to the 'python' engine because the 'c' engine does not support regex separators (separators > 1 char and different from '\\s+' are interpreted as regex); you can avoid this warning by specifying engine='python'.\n",
      "  df = pd.read_csv('input.txt', sep='   ', header=None)\n"
     ]
    }
   ],
   "source": [
    "import pandas as pd\n",
    "import numpy as np\n",
    "\n",
    "df = pd.read_csv('input.txt', sep='   ', header=None)\n",
    "print(df)"
   ]
  },
  {
   "cell_type": "code",
   "execution_count": 24,
   "metadata": {},
   "outputs": [
    {
     "name": "stdout",
     "output_type": "stream",
     "text": [
      "2057374\n"
     ]
    }
   ],
   "source": [
    "list1 = np.array(df.iloc[:, 0].tolist())\n",
    "list1.sort()\n",
    "\n",
    "list2 = np.array(df.iloc[:, 1].tolist())\n",
    "list2.sort()\n",
    "\n",
    "sum = np.sum(np.abs(list1 - list2))\n",
    "print(sum)"
   ]
  },
  {
   "cell_type": "code",
   "execution_count": 25,
   "metadata": {},
   "outputs": [
    {
     "name": "stdout",
     "output_type": "stream",
     "text": [
      "23177084\n"
     ]
    }
   ],
   "source": [
    "dict = {}\n",
    "for num in list2:\n",
    "    if num in dict.keys():\n",
    "        dict[num] += 1\n",
    "    else:\n",
    "        dict[num] = 1\n",
    "\n",
    "similarity_score = 0\n",
    "for num in list1:\n",
    "    if num in dict.keys():\n",
    "        similarity_score += num * dict[num]\n",
    "\n",
    "print(similarity_score)"
   ]
  }
 ],
 "metadata": {
  "kernelspec": {
   "display_name": "Python 3",
   "language": "python",
   "name": "python3"
  },
  "language_info": {
   "codemirror_mode": {
    "name": "ipython",
    "version": 3
   },
   "file_extension": ".py",
   "mimetype": "text/x-python",
   "name": "python",
   "nbconvert_exporter": "python",
   "pygments_lexer": "ipython3",
   "version": "3.12.0"
  }
 },
 "nbformat": 4,
 "nbformat_minor": 2
}
