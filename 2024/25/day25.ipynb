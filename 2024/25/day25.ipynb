{
 "cells": [
  {
   "cell_type": "code",
   "execution_count": 12,
   "metadata": {},
   "outputs": [
    {
     "name": "stdout",
     "output_type": "stream",
     "text": [
      "[array([0, 5, 3, 4, 3]), array([1, 2, 0, 5, 3])] [array([5, 0, 2, 1, 3]), array([4, 3, 4, 0, 2]), array([3, 0, 2, 0, 1])]\n"
     ]
    }
   ],
   "source": [
    "import pandas as pd\n",
    "import numpy as np\n",
    "import re\n",
    "\n",
    "def load_data(option):\n",
    "    if option == 0:\n",
    "        with open('sample.txt') as f:\n",
    "            data = f.read().splitlines()\n",
    "    else:\n",
    "        with open('input.txt') as f:\n",
    "            data = f.read().splitlines()\n",
    "\n",
    "    arr = pd.DataFrame(data).to_numpy()\n",
    "    locks = []\n",
    "    keys = []\n",
    "    for i in range(0, len(arr), 8):\n",
    "        puzzle = np.array([list(row[0]) for row in arr[i:i+7, :]])\n",
    "\n",
    "        if np.count_nonzero(puzzle[0] == '#') == 5: # This is a lock\n",
    "            pin_height = np.count_nonzero(puzzle[1:, :] == '#', axis=0)\n",
    "            locks.append(pin_height)\n",
    "        else: # This is a key\n",
    "            pin_height = np.count_nonzero(puzzle[:-1, :] == '#', axis=0)\n",
    "            keys.append(pin_height)\n",
    "\n",
    "    return locks, keys\n",
    "\n",
    "locks, keys = load_data(0)\n",
    "print(locks, keys)"
   ]
  },
  {
   "cell_type": "code",
   "execution_count": 14,
   "metadata": {},
   "outputs": [
    {
     "name": "stdout",
     "output_type": "stream",
     "text": [
      "3317\n"
     ]
    }
   ],
   "source": [
    "import pandas as pd\n",
    "import numpy as np\n",
    "from tqdm import tqdm\n",
    "import re\n",
    "\n",
    "locks, keys = load_data(1)\n",
    "\n",
    "result = 0\n",
    "for lock in locks:\n",
    "    for key in keys:\n",
    "        if max(lock + key) <= 5:\n",
    "            result += 1\n",
    "print(result)"
   ]
  }
 ],
 "metadata": {
  "kernelspec": {
   "display_name": "Python 3",
   "language": "python",
   "name": "python3"
  },
  "language_info": {
   "codemirror_mode": {
    "name": "ipython",
    "version": 3
   },
   "file_extension": ".py",
   "mimetype": "text/x-python",
   "name": "python",
   "nbconvert_exporter": "python",
   "pygments_lexer": "ipython3",
   "version": "3.12.0"
  }
 },
 "nbformat": 4,
 "nbformat_minor": 2
}
