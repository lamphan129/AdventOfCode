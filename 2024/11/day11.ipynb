{
 "cells": [
  {
   "cell_type": "code",
   "execution_count": 2,
   "metadata": {},
   "outputs": [
    {
     "name": "stdout",
     "output_type": "stream",
     "text": [
      "[3279, 998884, 1832781, 517, 8, 18864, 28, 0]\n"
     ]
    }
   ],
   "source": [
    "import pandas as pd\n",
    "import numpy as np\n",
    "\n",
    "with open('input.txt') as f:\n",
    "    data = f.read().splitlines()\n",
    "\n",
    "arr = pd.DataFrame(data).to_numpy()\n",
    "arr = [int(num) for num in arr[0][0].split(' ')]\n",
    "print(arr)"
   ]
  },
  {
   "cell_type": "code",
   "execution_count": null,
   "metadata": {},
   "outputs": [
    {
     "name": "stderr",
     "output_type": "stream",
     "text": [
      "100%|██████████| 25/25 [00:00<00:00, 80.69it/s] "
     ]
    },
    {
     "name": "stdout",
     "output_type": "stream",
     "text": [
      "218956\n"
     ]
    },
    {
     "name": "stderr",
     "output_type": "stream",
     "text": [
      "\n"
     ]
    }
   ],
   "source": [
    "from tqdm import tqdm\n",
    "\n",
    "with open('input.txt') as f:\n",
    "    data = f.read().splitlines()\n",
    "\n",
    "arr = pd.DataFrame(data).to_numpy()\n",
    "arr = [int(num) for num in arr[0][0].split(' ')]\n",
    "print(arr)\n",
    "\n",
    "# Return list of numbers\n",
    "def rule(num):\n",
    "    num_str = str(num)\n",
    "    if num_str == '0':\n",
    "        return [1]\n",
    "    elif len(list(num_str)) % 2 == 0:\n",
    "        mid = (len(list(num_str)) // 2)\n",
    "        return [int(num_str[:mid]), int(num_str[mid:])]\n",
    "    else:\n",
    "        return [int(num * 2024)]\n",
    "\n",
    "num_blink = 25\n",
    "for _ in tqdm(range(num_blink)):\n",
    "    new_arr = []\n",
    "    for num in arr:\n",
    "        new_arr.extend(rule(num))\n",
    "    arr = new_arr\n",
    "print(len(arr))"
   ]
  },
  {
   "cell_type": "code",
   "execution_count": 4,
   "metadata": {},
   "outputs": [
    {
     "name": "stdout",
     "output_type": "stream",
     "text": [
      "[3279, 998884, 1832781, 517, 8, 18864, 28, 0]\n"
     ]
    },
    {
     "name": "stderr",
     "output_type": "stream",
     "text": [
      "100%|██████████| 75/75 [00:00<00:00, 550.89it/s]"
     ]
    },
    {
     "name": "stdout",
     "output_type": "stream",
     "text": [
      "259593838049805\n"
     ]
    },
    {
     "name": "stderr",
     "output_type": "stream",
     "text": [
      "\n"
     ]
    }
   ],
   "source": [
    "from tqdm import tqdm\n",
    "\n",
    "with open('input.txt') as f:\n",
    "    data = f.read().splitlines()\n",
    "\n",
    "arr = pd.DataFrame(data).to_numpy()\n",
    "arr = [int(num) for num in arr[0][0].split(' ')]\n",
    "print(arr)\n",
    "\n",
    "# Return list of numbers\n",
    "def rule(num):\n",
    "    num_str = str(num)\n",
    "    if num_str == '0':\n",
    "        return [1]\n",
    "    elif len(list(num_str)) % 2 == 0:\n",
    "        mid = (len(list(num_str)) // 2)\n",
    "        return [int(num_str[:mid]), int(num_str[mid:])]\n",
    "    else:\n",
    "        return [int(num * 2024)]\n",
    "\n",
    "count_map = {}\n",
    "\n",
    "for num in arr:\n",
    "    if num not in count_map:\n",
    "        count_map[num] = 1\n",
    "    else:\n",
    "        count_map[num] += 1\n",
    "\n",
    "num_blink = 75\n",
    "for _ in tqdm(range(num_blink)):\n",
    "    new_map = {}\n",
    "    for num in count_map.keys():\n",
    "        count = count_map[num]\n",
    "        result = rule(num)\n",
    "\n",
    "        if len(result) == 2:\n",
    "            if result[0] not in new_map:\n",
    "                new_map[result[0]] = count\n",
    "            else:\n",
    "                new_map[result[0]] += count\n",
    "\n",
    "            if result[1] not in new_map:\n",
    "                new_map[result[1]] = count\n",
    "            else:\n",
    "                new_map[result[1]] += count\n",
    "        else:\n",
    "            if result[0] not in new_map:\n",
    "                new_map[result[0]] = count\n",
    "            else:\n",
    "                new_map[result[0]] += count\n",
    "    count_map = new_map\n",
    "\n",
    "print(sum(list(count_map.values())))"
   ]
  },
  {
   "cell_type": "code",
   "execution_count": null,
   "metadata": {},
   "outputs": [],
   "source": [
    "train_loss = [5.185452809308302,\n",
    "2.855057891039925,\n",
    "1.7907390540296382,\n",
    "1.2396708935658562,\n",
    "0.931752263,\n",
    "0.7309138774871826,\n",
    "0.5907035327372067,\n",
    "0.49917268721177616,\n",
    "0.42292018680967747,\n",
    "0.3685193871033383,\n",
    "0.3254342773620458,\n",
    "0.2895175915430574,\n",
    "0.26008798723871057,\n",
    "0.2317649017680775,\n",
    "0.2154184521280508,\n",
    "0.20049386989464735,\n",
    "0.18579925323791682,\n",
    "0.17097886811125088,\n",
    "0.16389066885340023,\n",
    "0.15499101043305294\n",
    "            ]\n",
    "val_loss = [3.6100185617223963,\n",
    "2.174258758805015,\n",
    "1.5315852056850086,\n",
    "1.1984446875460737,\n",
    "1.0169469308543515,\n",
    "0.9058959851017246,\n",
    "0.8415106121595803,\n",
    "0.7921404455389295,\n",
    "0.7567507254612911,\n",
    "0.7337187562670027,\n",
    "0.7166165222595264,\n",
    "0.7060171172216341,\n",
    "0.6937654196441948,\n",
    "0.6892637109601653,\n",
    "0.6800624534681246,\n",
    "0.6762652556617539,\n",
    "0.6716834774265041,\n",
    "0.6730817521547342,\n",
    "0.6707555571159759,\n",
    "0.6675805738994054\n",
    "          ]\n",
    "\n",
    "train_accuracy = [13.674356402540957,\n",
    "46.64827816783684,\n",
    "65.06185222333667,\n",
    "75.15880976,\n",
    "81.22701437646272,\n",
    "85.34770979605483,\n",
    "88.31494483,\n",
    "90.32096289,\n",
    "91.92577733199599,\n",
    "93.01654964894684,\n",
    "94.03627549,\n",
    "95.01003009027082,\n",
    "95.70377800066868,\n",
    "96.23871614844533,\n",
    "96.47693079237713,\n",
    "96.86977599465062,\n",
    "97.27515880976262,\n",
    "97.60949515212303,\n",
    "97.69725844199264,\n",
    "97.83517218321632\n",
    "      ]\n",
    "\n",
    "val_accuracy = [33.74741200828157,\n",
    "55.63268786,\n",
    "66.43526976007794,\n",
    "72.13494093289489,\n",
    "74.84269069946819,\n",
    "76.95773961758617,\n",
    "77.96857873584216,\n",
    "78.86168960337758,\n",
    "79.37725814963666,\n",
    "79.84005196281412,\n",
    "80.33532253481103,\n",
    "80.35562050907319,\n",
    "80.66009012300573,\n",
    "80.72910323549709,\n",
    "81.01327487516745,\n",
    "81.18377785896968,\n",
    "81.13506272074046,\n",
    "81.05793041854423,\n",
    "81.25685056631349,\n",
    "81.35022124791946\n",
    "          ]"
   ]
  }
 ],
 "metadata": {
  "kernelspec": {
   "display_name": "Python 3",
   "language": "python",
   "name": "python3"
  },
  "language_info": {
   "codemirror_mode": {
    "name": "ipython",
    "version": 3
   },
   "file_extension": ".py",
   "mimetype": "text/x-python",
   "name": "python",
   "nbconvert_exporter": "python",
   "pygments_lexer": "ipython3",
   "version": "3.12.0"
  }
 },
 "nbformat": 4,
 "nbformat_minor": 2
}
