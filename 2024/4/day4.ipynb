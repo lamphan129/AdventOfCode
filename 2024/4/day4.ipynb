{
 "cells": [
  {
   "cell_type": "code",
   "execution_count": 71,
   "metadata": {},
   "outputs": [
    {
     "name": "stdout",
     "output_type": "stream",
     "text": [
      "                                                     0\n",
      "0    SXMSMMXMASMSSSSXAMXMXAMXXAAXMAMSAMMXMAMXSAMXMX...\n",
      "1    SAMAMSMSMSXAAMAAXMSXMSSSXSXMSMMSASASXSMSMSSMSS...\n",
      "2    SAMXSAAXAMMMMMMXAXSAMMAMAMXMAAXSXMASAAMSXAXAAA...\n",
      "3    SAMXSMSMAMAAXSXSSXSAMMAMAMASXSMSXXXMMMMSMMSMMX...\n",
      "4    MSSXMAXMASMSSMAXMAMXMMASAXMXAMAMXMMMXMXMAMXXAX...\n",
      "..                                                 ...\n",
      "135  MAXAMSMSSXSAAMASMXSAASXSASAAAXSSMSMMAAAXXXXSSM...\n",
      "136  SASXAXASAAMXMASMXAMMMSAMXSMMXXAAASMMSMMMMXXMAX...\n",
      "137  MASXMMMMMMMAMSMMXXSMAMAMMXMAXMMMMMAMASXAMXSSSM...\n",
      "138  MAMMXAXAXXSAMAAAAMXMASAMSAMXSSXAAAMMAMSASAMXAA...\n",
      "139  MMSASMSMSASXSSSMMAMSXSASMXMXSAMSSSXMXXSXMXSSSM...\n",
      "\n",
      "[140 rows x 1 columns]\n"
     ]
    }
   ],
   "source": [
    "import pandas as pd\n",
    "import numpy as np\n",
    "\n",
    "with open('input.txt') as f:\n",
    "    data = f.read().splitlines()\n",
    "\n",
    "df = pd.DataFrame(data)\n",
    "print(df)"
   ]
  },
  {
   "cell_type": "code",
   "execution_count": 72,
   "metadata": {},
   "outputs": [
    {
     "name": "stdout",
     "output_type": "stream",
     "text": [
      "SSS\n"
     ]
    }
   ],
   "source": [
    "data_arr = np.array([list(string) for string in data])\n",
    "print(''.join(data_arr[3:0:-1, 0]))"
   ]
  },
  {
   "cell_type": "code",
   "execution_count": 66,
   "metadata": {},
   "outputs": [
    {
     "name": "stdout",
     "output_type": "stream",
     "text": [
      "2493\n"
     ]
    }
   ],
   "source": [
    "# Search 'XMAS' in all direction\n",
    "\n",
    "sum = 0\n",
    "for i in range(len(data_arr)):\n",
    "    for j in range(len(data_arr[0])):\n",
    "        # Horizontal\n",
    "        if j < len(data_arr[0]) - 3:\n",
    "            if ''.join(data_arr[i, j:j+4]) == 'XMAS':\n",
    "                sum += 1\n",
    "        if j > 2:\n",
    "            if j == 3 and ''.join(data_arr[i, j::-1]) == 'XMAS': # Special case\n",
    "                sum += 1\n",
    "            elif ''.join(data_arr[i, j:j-4:-1]) == 'XMAS':\n",
    "                sum += 1\n",
    "\n",
    "        # Vertical\n",
    "        if i < len(data_arr) - 3:\n",
    "            if ''.join(data_arr[i:i+4, j]) == 'XMAS':\n",
    "                sum += 1\n",
    "        if i > 2:\n",
    "            if i == 3 and ''.join(data_arr[i::-1, j]) == 'XMAS': # Special case\n",
    "                sum += 1\n",
    "            if ''.join(data_arr[i:i-4:-1, j]) == 'XMAS':\n",
    "                sum += 1\n",
    "\n",
    "        # Diagonal\n",
    "        if i < len(data_arr) - 3 and j < len(data_arr[0]) - 3:\n",
    "            if ''.join((data_arr[i][j], data_arr[i+1][j+1], data_arr[i+2][j+2], data_arr[i+3][j+3])) == 'XMAS':\n",
    "                sum += 1\n",
    "        if i < len(data_arr) - 3 and j > 2:\n",
    "            if ''.join((data_arr[i][j], data_arr[i+1][j-1], data_arr[i+2][j-2], data_arr[i+3][j-3])) == 'XMAS':\n",
    "                sum += 1\n",
    "        if i > 2 and j < len(data_arr[0]) - 3:\n",
    "            if ''.join((data_arr[i][j], data_arr[i-1][j+1], data_arr[i-2][j+2], data_arr[i-3][j+3])) == 'XMAS':\n",
    "                sum += 1\n",
    "        if i > 2 and j > 2:\n",
    "            if ''.join((data_arr[i][j], data_arr[i-1][j-1], data_arr[i-2][j-2], data_arr[i-3][j-3])) == 'XMAS':\n",
    "                sum += 1\n",
    "\n",
    "print(sum)"
   ]
  },
  {
   "cell_type": "code",
   "execution_count": 73,
   "metadata": {},
   "outputs": [
    {
     "name": "stdout",
     "output_type": "stream",
     "text": [
      "1890\n"
     ]
    }
   ],
   "source": [
    "# Search 'MAS' X shape\n",
    "\n",
    "sum = 0\n",
    "for i in range(len(data_arr)):\n",
    "    for j in range(len(data_arr[0])):\n",
    "        if i < len(data_arr) - 2 and j < len(data_arr[0]) - 2:\n",
    "            if (''.join((data_arr[i][j], data_arr[i+1][j+1], data_arr[i+2][j+2])) == 'MAS' or\n",
    "                ''.join((data_arr[i][j], data_arr[i+1][j+1], data_arr[i+2][j+2])) == 'SAM') and \\\n",
    "               (''.join((data_arr[i+2][j], data_arr[i+1][j+1], data_arr[i][j+2])) == 'MAS' or\n",
    "                ''.join((data_arr[i+2][j], data_arr[i+1][j+1], data_arr[i][j+2])) == 'SAM'):\n",
    "                sum += 1\n",
    "\n",
    "print(sum)"
   ]
  }
 ],
 "metadata": {
  "kernelspec": {
   "display_name": "Python 3",
   "language": "python",
   "name": "python3"
  },
  "language_info": {
   "codemirror_mode": {
    "name": "ipython",
    "version": 3
   },
   "file_extension": ".py",
   "mimetype": "text/x-python",
   "name": "python",
   "nbconvert_exporter": "python",
   "pygments_lexer": "ipython3",
   "version": "3.12.0"
  }
 },
 "nbformat": 4,
 "nbformat_minor": 2
}
