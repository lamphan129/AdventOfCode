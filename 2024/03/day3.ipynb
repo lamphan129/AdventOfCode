{
 "cells": [
  {
   "cell_type": "code",
   "execution_count": 96,
   "metadata": {},
   "outputs": [
    {
     "name": "stdout",
     "output_type": "stream",
     "text": [
      "                                                   0\n",
      "0  mul(427,266)#mul(287,390)mul(398,319)#!$>don't...\n",
      "1  >mul(5,441)[+[-how(117,39)^]don't()mul(122,41)...\n",
      "2  */mul(705,735from()*<~}mul(130,76)/~where()who...\n",
      "3  >how()*what()[how()</from()mul(559,343)]/mul(4...\n",
      "4  %mul(966,81)don't()( !>~'when()*mul(117,418)?d...\n",
      "5  ~when()(select()who()how()mul(895,703)mul(723@...\n"
     ]
    }
   ],
   "source": [
    "import pandas as pd\n",
    "import numpy as np\n",
    "\n",
    "with open('input.txt') as f:\n",
    "    data = f.read().splitlines()\n",
    "\n",
    "df = pd.DataFrame(data)\n",
    "print(df)"
   ]
  },
  {
   "cell_type": "code",
   "execution_count": 65,
   "metadata": {},
   "outputs": [
    {
     "name": "stdout",
     "output_type": "stream",
     "text": [
      "189527826\n"
     ]
    }
   ],
   "source": [
    "import re\n",
    "\n",
    "sum = 0\n",
    "for row in df.iterrows():\n",
    "  x = re.findall(r'mul\\((\\d+),(\\d+)\\)', row[1].values[0])\n",
    "  for match in x:\n",
    "    sum += int(match[0]) * int(match[1])\n",
    "print(sum)"
   ]
  },
  {
   "cell_type": "code",
   "execution_count": 97,
   "metadata": {},
   "outputs": [
    {
     "name": "stdout",
     "output_type": "stream",
     "text": [
      "63013756\n"
     ]
    },
    {
     "name": "stderr",
     "output_type": "stream",
     "text": [
      "<>:9: SyntaxWarning: invalid escape sequence '\\('\n",
      "<>:9: SyntaxWarning: invalid escape sequence '\\('\n",
      "C:\\Users\\LamPhan\\AppData\\Local\\Temp\\ipykernel_27124\\3789962495.py:9: SyntaxWarning: invalid escape sequence '\\('\n",
      "  value = re.split('do\\(\\)|don\\'t\\(\\)', full_data)\n"
     ]
    }
   ],
   "source": [
    "import re\n",
    "\n",
    "sum = 0\n",
    "\n",
    "full_data = ''\n",
    "for row in df.iterrows():\n",
    "  full_data += row[1].values[0]\n",
    "\n",
    "value = re.split('do\\(\\)|don\\'t\\(\\)', full_data)\n",
    "splitter = re.findall(r'do\\(\\)|don\\'t\\(\\)', full_data)\n",
    "\n",
    "for i in range(len(value)):\n",
    "    x = re.findall(r'mul\\((\\d+),(\\d+)\\)', value[i], flags=re.ASCII)\n",
    "\n",
    "    if i == 0 or splitter[i-1] == 'do()':\n",
    "        for match in x:\n",
    "            sum += int(match[0]) * int(match[1])\n",
    "print(sum)"
   ]
  }
 ],
 "metadata": {
  "kernelspec": {
   "display_name": "Python 3",
   "language": "python",
   "name": "python3"
  },
  "language_info": {
   "codemirror_mode": {
    "name": "ipython",
    "version": 3
   },
   "file_extension": ".py",
   "mimetype": "text/x-python",
   "name": "python",
   "nbconvert_exporter": "python",
   "pygments_lexer": "ipython3",
   "version": "3.12.0"
  }
 },
 "nbformat": 4,
 "nbformat_minor": 2
}
