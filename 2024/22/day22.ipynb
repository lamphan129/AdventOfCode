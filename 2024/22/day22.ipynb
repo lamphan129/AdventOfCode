{
 "cells": [
  {
   "cell_type": "code",
   "execution_count": 27,
   "metadata": {},
   "outputs": [
    {
     "name": "stdout",
     "output_type": "stream",
     "text": [
      "[1, 2, 3, 2024]\n"
     ]
    }
   ],
   "source": [
    "import pandas as pd\n",
    "import numpy as np\n",
    "\n",
    "def load_data(option):\n",
    "    if option == 0:\n",
    "        with open('sample.txt') as f:\n",
    "            data = f.read().splitlines()\n",
    "    else:\n",
    "        with open('input.txt') as f:\n",
    "            data = f.read().splitlines()\n",
    "\n",
    "    arr = pd.DataFrame(data).to_numpy()\n",
    "    arr = [int(row[0]) for row in arr]\n",
    "\n",
    "    return arr\n",
    "\n",
    "arr = load_data(0)\n",
    "print(arr)"
   ]
  },
  {
   "cell_type": "code",
   "execution_count": 28,
   "metadata": {},
   "outputs": [
    {
     "name": "stdout",
     "output_type": "stream",
     "text": [
      "20401393616\n"
     ]
    }
   ],
   "source": [
    "import pandas as pd\n",
    "import numpy as np\n",
    "from tqdm import tqdm\n",
    "import re\n",
    "\n",
    "arr = load_data(1)\n",
    "\n",
    "# Given an input number, return the next secret number\n",
    "def find_secret(num):\n",
    "    secret = ((num * 64) ^ num) % 16777216\n",
    "    secret = (int(secret / 32) ^ secret) % 16777216\n",
    "    secret = ((secret * 2048) ^ secret) % 16777216\n",
    "    return secret\n",
    "\n",
    "total = 0\n",
    "for num in arr:\n",
    "    for i in range(2000):\n",
    "        num = find_secret(num)\n",
    "    total += num\n",
    "print(total)"
   ]
  },
  {
   "cell_type": "code",
   "execution_count": 107,
   "metadata": {},
   "outputs": [
    {
     "name": "stdout",
     "output_type": "stream",
     "text": [
      "2272\n"
     ]
    }
   ],
   "source": [
    "import pandas as pd\n",
    "import numpy as np\n",
    "from tqdm import tqdm\n",
    "import itertools\n",
    "\n",
    "arr = load_data(1)\n",
    "\n",
    "# Given an input number, return the next secret number\n",
    "def find_secret(num):\n",
    "    secret = ((num * 64) ^ num) % 16777216\n",
    "    secret = (int(secret / 32) ^ secret) % 16777216\n",
    "    secret = ((secret * 2048) ^ secret) % 16777216\n",
    "    return secret\n",
    "\n",
    "# index: (num_list: int, diff_list: str)\n",
    "num_dir = {}\n",
    "for i, num in enumerate(arr):\n",
    "    num_list = [num % 10]\n",
    "    for j in range(2000):\n",
    "        num = find_secret(num)\n",
    "        num_list.append(num % 10)\n",
    "\n",
    "    # diff_list has value ranging from -9 to 9, which is mapped to A-S for easier pattern matching\n",
    "    # This list doesn't contain the difference between the 1st and 2nd elements\n",
    "    diff_list = [chr(num_list[j] - num_list[j-1] + 74) for j, _ in enumerate(num_list) if j > 0]\n",
    "    num_dir[i] = (num_list, ''.join(diff_list))\n",
    "\n",
    "# Find total sequence count\n",
    "sequence_dict = {}\n",
    "for num_list, diff_str in num_dir.values():\n",
    "    cur_dict = {}\n",
    "    \n",
    "    for i in range(len(diff_str)-3):\n",
    "        sequence = diff_str[i:i+4]\n",
    "        if sequence not in cur_dict:\n",
    "            if sequence not in sequence_dict:\n",
    "                cur_dict[sequence] = num_list[i+4]\n",
    "            else:\n",
    "                cur_dict[sequence] = sequence_dict[sequence] + num_list[i+4]\n",
    "\n",
    "    # Update total count\n",
    "    sequence_dict.update(cur_dict)\n",
    "\n",
    "print(max(sequence_dict.values()))"
   ]
  }
 ],
 "metadata": {
  "kernelspec": {
   "display_name": "Python 3",
   "language": "python",
   "name": "python3"
  },
  "language_info": {
   "codemirror_mode": {
    "name": "ipython",
    "version": 3
   },
   "file_extension": ".py",
   "mimetype": "text/x-python",
   "name": "python",
   "nbconvert_exporter": "python",
   "pygments_lexer": "ipython3",
   "version": "3.12.0"
  }
 },
 "nbformat": 4,
 "nbformat_minor": 2
}
