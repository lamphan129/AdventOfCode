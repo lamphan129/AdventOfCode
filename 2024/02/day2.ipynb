{
 "cells": [
  {
   "cell_type": "code",
   "execution_count": 12,
   "metadata": {},
   "outputs": [
    {
     "name": "stdout",
     "output_type": "stream",
     "text": [
      "                           0\n",
      "0       67 69 70 71 72 75 74\n",
      "1          20 21 24 26 28 28\n",
      "2          43 45 48 50 53 57\n",
      "3          54 55 57 60 62 67\n",
      "4             23 26 24 27 28\n",
      "..                       ...\n",
      "995           36 33 32 31 28\n",
      "996           43 44 45 47 49\n",
      "997  12 15 17 18 21 22 24 26\n",
      "998         19 16 14 11 10 9\n",
      "999        67 68 70 71 74 76\n",
      "\n",
      "[1000 rows x 1 columns]\n"
     ]
    }
   ],
   "source": [
    "import pandas as pd\n",
    "import numpy as np\n",
    "\n",
    "df = pd.read_csv('input.txt', header=None)\n",
    "print(df)"
   ]
  },
  {
   "cell_type": "code",
   "execution_count": 36,
   "metadata": {},
   "outputs": [
    {
     "name": "stdout",
     "output_type": "stream",
     "text": [
      "242\n"
     ]
    }
   ],
   "source": [
    "num_safe = 0\n",
    "for row in df.iterrows():\n",
    "    safe = True\n",
    "    report = np.array(row[1].values[0].split(' ')).astype(int)\n",
    "    \n",
    "    # If increasing\n",
    "    if report[0] < report[-1]:\n",
    "        for i in range(len(report) - 1):\n",
    "            if report[i+1] - report[i] < 1 or report[i+1] - report[i] > 3:\n",
    "                safe = False\n",
    "                break\n",
    "    # If decreasing\n",
    "    else:\n",
    "        for i in range(len(report) - 1):\n",
    "            if report[i] - report[i+1] < 1 or report[i] - report[i+1] > 3:\n",
    "                safe = False\n",
    "                break\n",
    "                \n",
    "    if safe:\n",
    "        num_safe += 1\n",
    "\n",
    "print(num_safe)"
   ]
  },
  {
   "cell_type": "code",
   "execution_count": 65,
   "metadata": {},
   "outputs": [
    {
     "name": "stdout",
     "output_type": "stream",
     "text": [
      "311\n"
     ]
    }
   ],
   "source": [
    "num_safe = 0\n",
    "for row in df.iterrows():\n",
    "    this_shit = True\n",
    "    that_shit = True\n",
    "    report = np.array(row[1].values[0].split(' ')).astype(int)\n",
    "\n",
    "    # Check for increasing\n",
    "    for i in range(len(report) - 1):\n",
    "        if report[i+1] - report[i] < 1 or report[i+1] - report[i] > 3:\n",
    "            # Second check\n",
    "            # Remove the first value\n",
    "            this_little_shit = True\n",
    "            list1 = np.delete(report, i)\n",
    "            for j in range(len(list1) - 1):\n",
    "                if this_little_shit and (list1[j+1] - list1[j] < 1 or list1[j+1] - list1[j] > 3):\n",
    "                    this_little_shit = False\n",
    "            \n",
    "            # Remove the last value\n",
    "            this_second_little_shit = True\n",
    "            list2 = np.delete(report, i+1)\n",
    "            for j in range(len(list2) - 1):\n",
    "                if this_second_little_shit and (list2[j+1] - list2[j] < 1 or list2[j+1] - list2[j] > 3):\n",
    "                    this_second_little_shit = False\n",
    "\n",
    "            if not (this_little_shit or this_second_little_shit): # Both are shit\n",
    "                this_shit = False\n",
    "\n",
    "    # Check for decreasing\n",
    "    for i in range(len(report) - 1):\n",
    "        if report[i] - report[i+1] < 1 or report[i] - report[i+1] > 3:\n",
    "            # Second check\n",
    "            # Remove the first value\n",
    "            that_little_shit = True\n",
    "            list1 = np.delete(report, i)\n",
    "            for j in range(len(list1) - 1):\n",
    "                if that_little_shit and (list1[j] - list1[j+1] < 1 or list1[j] - list1[j+1] > 3):\n",
    "                    that_little_shit = False\n",
    "            \n",
    "            # Remove the last value\n",
    "            that_second_little_shit = True\n",
    "            list2 = np.delete(report, i+1)\n",
    "            for j in range(len(list2) - 1):\n",
    "                if that_second_little_shit and (list2[j] - list2[j+1] < 1 or list2[j] - list2[j+1] > 3):\n",
    "                    that_second_little_shit = False\n",
    "            \n",
    "            if not (that_little_shit or that_second_little_shit): # Both are shit (again)\n",
    "                that_shit = False\n",
    "\n",
    "    if this_shit or that_shit: # Some of the shit are safe\n",
    "        num_safe += 1\n",
    "\n",
    "print(num_safe)"
   ]
  },
  {
   "cell_type": "code",
   "execution_count": null,
   "metadata": {},
   "outputs": [],
   "source": [
    "import cv2\n",
    "import numpy as np\n",
    "\n",
    "# Contrast enhancement\n",
    "old_mean = np.mean(img)\n",
    "brightness = -(old_mean - 100.0)\n",
    "img = cv2.addWeighted(img, 1, img, 0, brightness)\n",
    "\n",
    "# Linear Stretching\n",
    "new_mean = np.mean(img)\n",
    "new_std = np.std(img)\n",
    "img = ((img - old_mean) / new_std) * 255 + new_mean"
   ]
  }
 ],
 "metadata": {
  "kernelspec": {
   "display_name": "Python 3",
   "language": "python",
   "name": "python3"
  },
  "language_info": {
   "codemirror_mode": {
    "name": "ipython",
    "version": 3
   },
   "file_extension": ".py",
   "mimetype": "text/x-python",
   "name": "python",
   "nbconvert_exporter": "python",
   "pygments_lexer": "ipython3",
   "version": "3.12.0"
  }
 },
 "nbformat": 4,
 "nbformat_minor": 2
}
